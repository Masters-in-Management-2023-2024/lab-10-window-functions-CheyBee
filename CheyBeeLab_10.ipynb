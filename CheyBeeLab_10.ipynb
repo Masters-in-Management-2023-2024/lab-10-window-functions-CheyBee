{
  "nbformat": 4,
  "nbformat_minor": 0,
  "metadata": {
    "colab": {
      "provenance": []
    },
    "kernelspec": {
      "name": "python3",
      "display_name": "Python 3"
    },
    "language_info": {
      "name": "python"
    }
  },
  "cells": [
    {
      "cell_type": "code",
      "execution_count": 12,
      "metadata": {
        "id": "Jcqd05acfucC",
        "colab": {
          "base_uri": "https://localhost:8080/"
        },
        "outputId": "c7267043-21a9-47c1-eadc-cdfc89770130"
      },
      "outputs": [
        {
          "output_type": "stream",
          "name": "stdout",
          "text": [
            "shape: (4_776, 3)\n",
            "┌────────────┬───────────────┬────────────────────┐\n",
            "│ date       ┆ daily_strikes ┆ strikes_cumulative │\n",
            "│ ---        ┆ ---           ┆ ---                │\n",
            "│ date       ┆ u32           ┆ u32                │\n",
            "╞════════════╪═══════════════╪════════════════════╡\n",
            "│ 2000-01-02 ┆ 1             ┆ 1                  │\n",
            "│ 2000-01-03 ┆ 2             ┆ 3                  │\n",
            "│ 2000-01-05 ┆ 3             ┆ 6                  │\n",
            "│ 2000-01-06 ┆ 1             ┆ 7                  │\n",
            "│ 2000-01-08 ┆ 4             ┆ 11                 │\n",
            "│ …          ┆ …             ┆ …                  │\n",
            "│ 2013-12-27 ┆ 6             ┆ 24096              │\n",
            "│ 2013-12-28 ┆ 1             ┆ 24097              │\n",
            "│ 2013-12-29 ┆ 2             ┆ 24099              │\n",
            "│ 2013-12-30 ┆ 4             ┆ 24103              │\n",
            "│ 2013-12-31 ┆ 6             ┆ 24109              │\n",
            "└────────────┴───────────────┴────────────────────┘\n"
          ]
        }
      ],
      "source": [
        "import polars as pl\n",
        "strikes = pl.read_csv( \"https://raw.githubusercontent.com/philhetzel/opan5510-class10/refs/heads/main/data/faa_strikes.txt\", separator=\"\\t\")\n",
        "\n",
        "\n",
        "#Question 1: Running total of strikes by day through 2013\n",
        "#You are interested in seeing the running total of strikes over time (Collision Date and Time) on a daily basis.\n",
        "#Using the strikes dataframe, create a new column that removes the time information but keeps the date information from the Collision Date and Time column (call this new field date).\n",
        "#Next, aggregate the Number of Strikes by day (call this new field daily_strikes). Sort the data in ascending order by date.\n",
        "#Then, create the running total of daily_strikes (name the new field strikes_cumulative) and filter to only the records up to and including the date of 2013-12-31.\n",
        "#Name the resulting data frame running_total_strikes.\n",
        "\n",
        "#Please place a Python code block and code below. The output should be a DataFrame. You must use a window function to receive credit on this question.\n",
        "\n",
        "strikes = strikes.with_columns(\n",
        "    pl.col(\"Collision Date and Time\").str.strptime(pl.Datetime).alias(\"datetime\")\n",
        ")\n",
        "\n",
        "strikes = strikes.with_columns(\n",
        "    pl.col(\"datetime\").dt.date().alias(\"date\")\n",
        ")\n",
        "\n",
        "daily_strikes = (\n",
        "    strikes.group_by(\"date\")\n",
        "    .agg(pl.len().alias(\"daily_strikes\"))\n",
        "    .sort(\"date\")\n",
        ")\n",
        "\n",
        "running_total_strikes = daily_strikes.with_columns(\n",
        "    pl.col(\"daily_strikes\")\n",
        "    .cum_sum()\n",
        "    .alias(\"strikes_cumulative\")\n",
        ")\n",
        "\n",
        "\n",
        "running_total_strikes = running_total_strikes.filter(\n",
        "    pl.col(\"date\") <= pl.lit(\"2013-12-31\").cast(pl.Date)\n",
        ")\n",
        "\n",
        "print(running_total_strikes)"
      ]
    },
    {
      "cell_type": "code",
      "source": [
        "import polars as pl\n",
        "strikes = pl.read_csv( \"https://raw.githubusercontent.com/philhetzel/opan5510-class10/refs/heads/main/data/faa_strikes.txt\", separator=\"\\t\")\n",
        "\n",
        "\n",
        "#Question 2: States with the third highest financial cost\n",
        "#The FAA is interested in the financial cost of strikes for each Origin State. Using the strikes dataframe: first, sum Cost: Total $ by Origin State (name the resulting column damage) then rank these states in order of which state had the most financial damage (name the new column with rank information, ranking). Next, filter to show the row with the third highest ranking. Use a window function to answer this question. Name the resulting dataframe damage_state.\n",
        "\n",
        "#Please place a Python code block and code below. The output should be a DataFrame. You must use a window function to receive credit on this question.\n",
        "\n",
        "strikes = strikes.with_columns(\n",
        "    pl.col(\"Cost: Total $\")\n",
        "    .cast(pl.Float64)\n",
        "    .alias(\"cost_total\")\n",
        ")\n",
        "\n",
        "damage_state = (\n",
        "    strikes\n",
        "    .group_by(\"Origin State\")\n",
        "    .agg(pl.sum(\"cost_total\").alias(\"damage\"))\n",
        "    .with_columns(\n",
        "        pl.col(\"damage\")\n",
        "        .rank(\"dense\", descending=True)\n",
        "        .alias(\"ranking\")\n",
        "    )\n",
        "    .filter(pl.col(\"ranking\") == 3)\n",
        ")\n",
        "\n",
        "print(damage_state)"
      ],
      "metadata": {
        "id": "TaYnDZ09iik5",
        "colab": {
          "base_uri": "https://localhost:8080/"
        },
        "outputId": "2888d783-aecf-4fd3-a76f-6a83c412a7da"
      },
      "execution_count": 15,
      "outputs": [
        {
          "output_type": "stream",
          "name": "stdout",
          "text": [
            "shape: (1, 3)\n",
            "┌──────────────┬─────────────┬─────────┐\n",
            "│ Origin State ┆ damage      ┆ ranking │\n",
            "│ ---          ┆ ---         ┆ ---     │\n",
            "│ str          ┆ f64         ┆ u32     │\n",
            "╞══════════════╪═════════════╪═════════╡\n",
            "│ California   ┆ 2.9671432e7 ┆ 3       │\n",
            "└──────────────┴─────────────┴─────────┘\n"
          ]
        }
      ]
    },
    {
      "cell_type": "code",
      "source": [
        "import polars as pl\n",
        "strikes = pl.read_csv( \"https://raw.githubusercontent.com/philhetzel/opan5510-class10/refs/heads/main/data/faa_strikes.txt\", separator=\"\\t\")\n",
        "\n",
        "#Question 3: What are the second costliest Species Groups for each Aircraft Type?\n",
        "#The FAA wants to know if some species groups are more dangerous to particular types of aircraft. Using the strikes dataframe: first, sum financial damage (Cost: Total $) information by Aircraft: Type and Wildlife: Species Group (name the new field damage). Rank the rows within each Aircraft: Type based on the greatest amount of damage; when performing the ranking function, name the new column ranking. Return the rows that represent the Wildlife: Species Group values that caused the second most financial damage to each Aircraft: Type. Name the resulting dataframe type_species.\n",
        "\n",
        "#Please place a Python code block and code below. The output should be a DataFrame. You must use a ranking function to receive credit on this question.\n",
        "\n",
        "strikes = strikes.with_columns(\n",
        "    pl.col(\"Cost: Total $\")\n",
        "    .cast(pl.Float64)\n",
        "    .alias(\"cost_total\")\n",
        ")\n",
        "\n",
        "type_species = (\n",
        "    strikes\n",
        "    .group_by([\"Aircraft: Type\", \"Wildlife: Species Group\"])\n",
        "    .agg(pl.sum(\"cost_total\").alias(\"damage\"))\n",
        "    .with_columns(\n",
        "        pl.col(\"damage\")\n",
        "        .rank(\"dense\", descending=True)\n",
        "        .over(\"Aircraft: Type\")\n",
        "        .alias(\"ranking\")\n",
        "    )\n",
        "    .filter(pl.col(\"ranking\") == 2)\n",
        ")\n",
        "\n",
        "print(type_species)"
      ],
      "metadata": {
        "id": "nQBsY4PEiiqz",
        "colab": {
          "base_uri": "https://localhost:8080/"
        },
        "outputId": "1c5c51c3-a42d-4c12-be3c-fea40e500e99"
      },
      "execution_count": 17,
      "outputs": [
        {
          "output_type": "stream",
          "name": "stdout",
          "text": [
            "shape: (3, 4)\n",
            "┌────────────────┬─────────────────────────┬─────────────┬─────────┐\n",
            "│ Aircraft: Type ┆ Wildlife: Species Group ┆ damage      ┆ ranking │\n",
            "│ ---            ┆ ---                     ┆ ---         ┆ ---     │\n",
            "│ str            ┆ str                     ┆ f64         ┆ u32     │\n",
            "╞════════════════╪═════════════════════════╪═════════════╪═════════╡\n",
            "│ NA             ┆ Vultures                ┆ 56227.0     ┆ 2       │\n",
            "│ Airplane       ┆ Kites, Hawks, Eagles    ┆ 4.8989287e7 ┆ 2       │\n",
            "│ Helicopter     ┆ Vultures                ┆ 116748.0    ┆ 2       │\n",
            "└────────────────┴─────────────────────────┴─────────────┴─────────┘\n"
          ]
        }
      ]
    },
    {
      "cell_type": "code",
      "source": [
        "import polars as pl\n",
        "strikes = pl.read_csv( \"https://raw.githubusercontent.com/philhetzel/opan5510-class10/refs/heads/main/data/faa_strikes.txt\", separator=\"\\t\")\n",
        "\n",
        "#Question 4: Which days had the greatest positive jump in strikes?\n",
        "#The FAA wants to investigate which days had the largest increase in strikes from the previous day. Using the strikes dataframe: sum the Number of Strikes measure by day (note: not by day and time). You can use a similar technique from Question 1 to create a new column from Collision Date and Time without time information and with date information (name this column date). Next, compute the previous day's strikes using a window function (name the new column previous_day), and calculate the difference of strikes between the current day and the previous day (name the new column delta_strikes). Sort the resulting data by delta_strikes in descending order to find which days had the highest increase of strikes from the previous day. Name the resulting dataframe greatest_strike_increase.\n",
        "\n",
        "#Hint: This code is more involved that other exercises, so I will explicitly name the steps to answer the question.\n",
        "\n",
        "#Start with the strikes data frame\n",
        "#Create a new column called date which removes the time information in the Collision Date and Time column\n",
        "#Sum the Number of Strikes by date, and name the new column daily_strikes\n",
        "#Sort by the date column in ascending order\n",
        "#Create a new column called previous_day to calculate what the daily_strikes were in the previous day\n",
        "#Create a new column called delta_strikes which subtracts previous_day from daily_strikes\n",
        "#Sort in descending order by delta_strikes\n",
        "#Please place a Python code block and code below. The output should be a DataFrame. You must use a window function to receive credit on this question.\n",
        "\n",
        "strikes = strikes.with_columns(\n",
        "    pl.col(\"Collision Date and Time\")\n",
        "    .str.strptime(pl.Datetime)\n",
        "    .alias(\"collision_datetime\")\n",
        ")\n",
        "\n",
        "strikes = strikes.with_columns(\n",
        "    pl.col(\"collision_datetime\")\n",
        "    .dt.date().alias(\"date\")\n",
        ")\n",
        "\n",
        "daily_strikes = (\n",
        "    strikes\n",
        "    .group_by(\"date\")\n",
        "    .agg(pl.sum(\"Number of Strikes\").alias(\"daily_strikes\"))\n",
        "    .sort(\"date\")\n",
        ")\n",
        "\n",
        "greatest_strike_increase = (\n",
        "    daily_strikes\n",
        "    .with_columns([\n",
        "        pl.col(\"daily_strikes\")\n",
        "        .shift(1)\n",
        "        .alias(\"previous_day\"),\n",
        "\n",
        "        (pl.col(\"daily_strikes\") - pl.col(\"daily_strikes\").shift(1)).alias(\"delta_strikes\")\n",
        "    ])\n",
        "    .sort(\"delta_strikes\", descending=True)\n",
        ")\n",
        "\n",
        "print(greatest_strike_increase)"
      ],
      "metadata": {
        "id": "SQA4aG6NiixP",
        "colab": {
          "base_uri": "https://localhost:8080/"
        },
        "outputId": "909c1c5f-09d3-442d-a47c-9ee254adf78c"
      },
      "execution_count": 21,
      "outputs": [
        {
          "output_type": "stream",
          "name": "stdout",
          "text": [
            "shape: (5_285, 4)\n",
            "┌────────────┬───────────────┬──────────────┬───────────────┐\n",
            "│ date       ┆ daily_strikes ┆ previous_day ┆ delta_strikes │\n",
            "│ ---        ┆ ---           ┆ ---          ┆ ---           │\n",
            "│ date       ┆ i64           ┆ i64          ┆ i64           │\n",
            "╞════════════╪═══════════════╪══════════════╪═══════════════╡\n",
            "│ 2000-01-02 ┆ 1             ┆ null         ┆ null          │\n",
            "│ 2010-10-29 ┆ 25            ┆ 7            ┆ 18            │\n",
            "│ 2014-08-25 ┆ 25            ┆ 8            ┆ 17            │\n",
            "│ 2012-06-28 ┆ 21            ┆ 5            ┆ 16            │\n",
            "│ 2009-07-07 ┆ 21            ┆ 7            ┆ 14            │\n",
            "│ …          ┆ …             ┆ …            ┆ …             │\n",
            "│ 2012-06-29 ┆ 6             ┆ 21           ┆ -15           │\n",
            "│ 2012-10-14 ┆ 5             ┆ 20           ┆ -15           │\n",
            "│ 2014-08-26 ┆ 10            ┆ 25           ┆ -15           │\n",
            "│ 2014-10-29 ┆ 5             ┆ 24           ┆ -19           │\n",
            "│ 2013-08-20 ┆ 8             ┆ 28           ┆ -20           │\n",
            "└────────────┴───────────────┴──────────────┴───────────────┘\n"
          ]
        }
      ]
    },
    {
      "cell_type": "code",
      "source": [
        "import polars as pl\n",
        "strikes = pl.read_csv( \"https://raw.githubusercontent.com/philhetzel/opan5510-class10/refs/heads/main/data/faa_strikes.txt\", separator=\"\\t\")\n",
        "\n",
        "#Question 5: Which single day had the greatest increase in strikes for each Aircraft: Type?\n",
        "##FAA was interested in the exercise from the last question but now wants to determine the largest delta between days for each Aircraft: Type. What are the days that had largest positive change in strikes for each Aircraft: Type? In order to answer this question, you will need to perform the exercise from Question 4, but this time include a grouping by Aircraft: Type. After grouping by Aircraft: Type, add a column called ranking and use a window function to determine the day with the largest increase in strikes from the previous day. Name the resulting data frame greatest_strike_increase_type\n",
        "\n",
        "#NOTE: Helicopters are not struck with a high frequency and will not show up in your analysis; this is fine.\n",
        "\n",
        "strikes = strikes.with_columns(\n",
        "    pl.col(\"Collision Date and Time\").str.strptime(pl.Datetime).alias(\"collision_datetime\")\n",
        ")\n",
        "\n",
        "strikes = strikes.with_columns(\n",
        "    pl.col(\"collision_datetime\").dt.date().alias(\"date\")\n",
        ")\n",
        "\n",
        "daily_strikes_by_type = (\n",
        "    strikes\n",
        "    .group_by([\"Aircraft: Type\", \"date\"])\n",
        "    .agg(pl.sum(\"Number of Strikes\").alias(\"daily_strikes\"))\n",
        "    .sort([\"Aircraft: Type\", \"date\"])\n",
        ")\n",
        "\n",
        "daily_strikes_by_type = daily_strikes_by_type.with_columns([\n",
        "    pl.col(\"daily_strikes\")\n",
        "    .shift(1)\n",
        "    .over(\"Aircraft: Type\")\n",
        "    .alias(\"previous_day\"),\n",
        "\n",
        "    (pl.col(\"daily_strikes\") - pl.col(\"daily_strikes\").shift(1).over(\"Aircraft: Type\")).alias(\"delta_strikes\")\n",
        "])\n",
        "\n",
        "greatest_strike_increase_type = daily_strikes_by_type.with_columns([\n",
        "    pl.col(\"delta_strikes\")\n",
        "    .rank(\"dense\", descending=True)\n",
        "    .over(\"Aircraft: Type\")\n",
        "    .alias(\"ranking\")\n",
        "])\n",
        "\n",
        "greatest_strike_increase_type = greatest_strike_increase_type.filter(pl.col(\"ranking\") == 1)\n",
        "\n",
        "print(greatest_strike_increase_type)"
      ],
      "metadata": {
        "id": "srYo8FVmii3T",
        "colab": {
          "base_uri": "https://localhost:8080/"
        },
        "outputId": "4f7fd3f4-0da6-43c6-c08a-24a6ddc2092e"
      },
      "execution_count": 24,
      "outputs": [
        {
          "output_type": "stream",
          "name": "stdout",
          "text": [
            "shape: (6, 6)\n",
            "┌────────────────┬────────────┬───────────────┬──────────────┬───────────────┬─────────┐\n",
            "│ Aircraft: Type ┆ date       ┆ daily_strikes ┆ previous_day ┆ delta_strikes ┆ ranking │\n",
            "│ ---            ┆ ---        ┆ ---           ┆ ---          ┆ ---           ┆ ---     │\n",
            "│ str            ┆ date       ┆ i64           ┆ i64          ┆ i64           ┆ u32     │\n",
            "╞════════════════╪════════════╪═══════════════╪══════════════╪═══════════════╪═════════╡\n",
            "│ Airplane       ┆ 2014-08-25 ┆ 25            ┆ 8            ┆ 17            ┆ 1       │\n",
            "│ Helicopter     ┆ 2010-07-21 ┆ 2             ┆ 1            ┆ 1             ┆ 1       │\n",
            "│ Helicopter     ┆ 2012-11-02 ┆ 2             ┆ 1            ┆ 1             ┆ 1       │\n",
            "│ Helicopter     ┆ 2013-10-28 ┆ 2             ┆ 1            ┆ 1             ┆ 1       │\n",
            "│ Helicopter     ┆ 2014-08-14 ┆ 2             ┆ 1            ┆ 1             ┆ 1       │\n",
            "│ NA             ┆ 2014-08-04 ┆ 5             ┆ 1            ┆ 4             ┆ 1       │\n",
            "└────────────────┴────────────┴───────────────┴──────────────┴───────────────┴─────────┘\n"
          ]
        }
      ]
    }
  ]
}